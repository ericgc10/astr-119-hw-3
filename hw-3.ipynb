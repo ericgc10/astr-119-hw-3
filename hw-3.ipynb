{
 "cells": [
  {
   "cell_type": "code",
   "execution_count": null,
   "metadata": {},
   "outputs": [],
   "source": [
    "%matplotlib inline\n",
    "import numpy as np\n",
    "import matplotlib.pyplot as plt"
   ]
  },
  {
   "cell_type": "markdown",
   "metadata": {},
   "source": [
    "# Define a function for which we will use to find the roots"
   ]
  },
  {
   "cell_type": "code",
   "execution_count": null,
   "metadata": {},
   "outputs": [],
   "source": [
    "def function_for_roots(x):\n",
    "    a = 1.01\n",
    "    b = -3.04\n",
    "    c = 2.07\n",
    "    return a*x**2 + b*x + c #get the roots of ax^2 +bx + c"
   ]
  },
  {
   "cell_type": "code",
   "execution_count": null,
   "metadata": {},
   "outputs": [],
   "source": [
    "def check_initial_values(f, x_min,x_max, tol):\n",
    "    \n",
    "    #check our initial guesses\n",
    "    y_min = f(x_min)\n",
    "    y_max = f(x_max)\n",
    "    \n",
    "    #check that x_min and x_max contains a zero crossing\n",
    "    if(y_min*y_max>=0.0): #if this is true then there is no zero crossing and will print the following\n",
    "        print(\"No zero crossing found the range=\",x_min,x_max)\n",
    "        s = \"f(%f) = %f, f(%f) = %f\" % (x_min,y_min,x_max,y_max)\n",
    "        print(s)\n",
    "        return 0.             #now will check other cases, 2 more\n",
    "    #if x_min is a root, then return flag == 1\n",
    "    if(np.fabs(y_min)<tol):\n",
    "        return 1\n",
    "    # if x_max is a root, then return == 2\n",
    "    if(np.fabs(y_max)<tol):\n",
    "        return 2\n",
    "    #if we reach this point, the bracket is valid\n",
    "    #and we will return 3\n",
    "    return 3"
   ]
  },
  {
   "cell_type": "markdown",
   "metadata": {},
   "source": [
    "## define the main work function that will perform the search\n"
   ]
  },
  {
   "cell_type": "code",
   "execution_count": null,
   "metadata": {},
   "outputs": [],
   "source": [
    "def bisection_root_finding(f, x_min_start, x_max_start, tol): #Tolerance, What do we want to call zero??\n",
    "    #this function uses bisection search to find a root\n",
    "    \n",
    "    x_min = x_min_start # minimum x in bracket\n",
    "    x_max = x_max_start # maximum x in bracket\n",
    "    x_mid = 0.0         #mid point\n",
    "    \n",
    "    y_min = f(x_min) #function value at x_min    #evaulate function at x_min and x_max\n",
    "    y_max = f(x_max)#function value at x_max\n",
    "    y_mid = 0 #function value at mid point\n",
    "    \n",
    "    imax = 10000 #set a maximum number of iterations\n",
    "    i = 0        #iteration counter\n",
    "    \n",
    "    #check the initial values\n",
    "    flag = check_initial_values(f,x_min,x_max,tol)   # flag will have 1 of 4 values, 0,1,2,3\n",
    "    if(flag==0):\n",
    "        print(\"Error in bisection_root_finding().\")\n",
    "        raise ValueError('Initial values invalid',x_min,x_max)\n",
    "    elif(flag==1):\n",
    "        #lucky guess\n",
    "        return x_min\n",
    "    elif(flag==2):\n",
    "        #another lucky guess\n",
    "        return x_max\n",
    "    #if we reach here, then we need to conduct the search\n",
    "    #set a flag\n",
    "    flag = 1\n",
    "    #enter a while loop, do this as long as it is not equal to zero\n",
    "    while(flag):\n",
    "        x_mid = 0.5*(x_min+x_max) #mid point\n",
    "        y_mid = f(x_mid)         #function value at x_mid\n",
    "        \n",
    "        #print(\"HERE \",x_mid,y_mid,x_max,y_max)\n",
    "        \n",
    "        #check if x_mid is a root\n",
    "        if(np.fabs(y_mid)<tol):\n",
    "            flag = 0\n",
    "        else:\n",
    "                    #x_mid is not a root\n",
    "                \n",
    "                  #if the product of the function at the midpoint\n",
    "                #and at one of the end points is greater than\n",
    "                #zero, replace this end point\n",
    "            if(f(x_min)*f(x_mid)>0):   #product if it is zer0 we know that x_min and midpoint are on one side of the crossing, this is how we...\n",
    "                #replace x_min with x_mid         #...start narrowing our bracket\n",
    "                x_min = x_mid\n",
    "            else:\n",
    "                #replace x_max with x_mid\n",
    "                x_max = x_mid\n",
    "                \n",
    "                \n",
    "            #print out the iteration\n",
    "            print(x_min,f(x_min),x_max,f(x_max),x_mid,f(x_mid)) #print just so we can see what is going on\n",
    "            \n",
    "            #count the iteration\n",
    "            i += 1\n",
    "            \n",
    "            #if we hace exceeded the max number\n",
    "            #of iterations, exit\n",
    "            if(i>=imax):   #there is something wrong if we take 10000 iterations to do this \n",
    "                print(\"Exceeded max number of iteratinons=\",i)\n",
    "                s  = \"Min bracket f(%f)= %f\" % (x_min,f(x_min))\n",
    "                print(s)\n",
    "                s  = \"Max bracket f(%f)= %f\" % (x_max,f(x_max))\n",
    "                print(s)\n",
    "                s  = \"Mid bracket f(%f)= %f\" % (x_mid,f(x_mid))\n",
    "                print(s)\n",
    "                raise StopIteration('Stopping interations after',i)\n",
    "    #we are done\n",
    "    return x_mid"
   ]
  },
  {
   "cell_type": "markdown",
   "metadata": {},
   "source": [
    "# Perform the search!\n"
   ]
  },
  {
   "cell_type": "code",
   "execution_count": null,
   "metadata": {},
   "outputs": [],
   "source": [
    "x_min1 = 1.7\n",
    "x_max1 = 2.5\n",
    "tolerance = 1.0e-6\n",
    "\n",
    "#print the intial guess\n",
    "print(x_min1,function_for_roots(x_min1))\n",
    "print(x_max1,function_for_roots(x_max1))\n",
    "\n",
    "x_root1 = bisection_root_finding(function_for_roots,x_min1,x_max1,tolerance)\n",
    "y_root1 = function_for_roots(x_root1)\n",
    "\n",
    "s = \"Root found with y(%f) = %f\" % (x_root1,y_root1)\n",
    "print(s)"
   ]
  },
  {
   "cell_type": "code",
   "execution_count": null,
   "metadata": {},
   "outputs": [],
   "source": [
    "x_min2 = 0.5\n",
    "x_max2 = 1.5\n",
    "tolerance = 1.0e-6\n",
    "\n",
    "#print the intial guess\n",
    "print(x_min2,function_for_roots(x_min2))\n",
    "print(x_max2,function_for_roots(x_max2))\n",
    "\n",
    "x_root2 = bisection_root_finding(function_for_roots,x_min2,x_max2,tolerance)\n",
    "y_root2 = function_for_roots(x_root2)\n",
    "\n",
    "s = \"Root found with y(%f) = %f\" % (x_root2,y_root2)\n",
    "print(s)"
   ]
  },
  {
   "cell_type": "markdown",
   "metadata": {},
   "source": [
    "# Here is the result"
   ]
  },
  {
   "cell_type": "code",
   "execution_count": null,
   "metadata": {},
   "outputs": [],
   "source": [
    "a = 1.01\n",
    "b = -3.04\n",
    "c = 2.07\n",
    "\n",
    "x = np.linspace(0,3,1000)\n",
    "y = function_for_roots(x)\n",
    "y_1 = function_for_roots(x_min1)\n",
    "y_2 = function_for_roots(x_max1)\n",
    "y_3 = function_for_roots(x_min2)\n",
    "y_4 = function_for_roots(x_max2)\n",
    "\n",
    "y_5 = 0*x\n",
    "\n",
    "fig = plt.figure(figsize=(7,7))\n",
    "\n",
    "\n",
    "point1 = plt.plot(x_root1,y_root1,'ro',label = 'root1')\n",
    "point2 = plt.plot(x_root2,y_root2,'ro',label = 'root2')\n",
    "point3 = plt.plot(x_min1,y_1,'bo',label='point3')\n",
    "point4 = plt.plot(x_max1,y_2,'bo',label='point4')\n",
    "point5 = plt.plot(x_min2,y_3,'yo',label='point5')\n",
    "point6 = plt.plot(x_max2,y_4,'yo',label='point6')\n",
    "plt.ylim(-0.5,2.1)\n",
    "plt.xlim(0,3)\n",
    "plt.plot(x,function_for_roots(x))\n",
    "plt.plot(x,y_5)\n",
    "plt.legend()\n",
    "\n",
    "plt.show()\n",
    "\n",
    "\n",
    "#It takes my code 18 iterations to run\n",
    "         "
   ]
  },
  {
   "cell_type": "code",
   "execution_count": null,
   "metadata": {},
   "outputs": [],
   "source": []
  },
  {
   "cell_type": "code",
   "execution_count": null,
   "metadata": {},
   "outputs": [],
   "source": []
  }
 ],
 "metadata": {
  "kernelspec": {
   "display_name": "Python 3",
   "language": "python",
   "name": "python3"
  },
  "language_info": {
   "codemirror_mode": {
    "name": "ipython",
    "version": 3
   },
   "file_extension": ".py",
   "mimetype": "text/x-python",
   "name": "python",
   "nbconvert_exporter": "python",
   "pygments_lexer": "ipython3",
   "version": "3.7.0"
  }
 },
 "nbformat": 4,
 "nbformat_minor": 2
}
